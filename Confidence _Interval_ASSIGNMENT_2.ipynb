{
 "cells": [
  {
   "cell_type": "code",
   "execution_count": 6,
   "id": "f8ed430f-b7a5-43e4-9abf-6caf8fddacaf",
   "metadata": {},
   "outputs": [
    {
     "data": {
      "text/plain": [
       "(1.0901973384384906, 1.3871359948948425)"
      ]
     },
     "execution_count": 6,
     "metadata": {},
     "output_type": "execute_result"
    }
   ],
   "source": [
    "#import\n",
    "import numpy as np\n",
    "from scipy import stats\n",
    "x= [1.13, 1.55, 1.43, 0.92, 1.25, 1.36, 1.32, 0.85, 1.07, 1.48, 1.20, 1.33, 1.18, 1.22, 1.29]\n",
    "n = len(x)\n",
    "mean= np.mean(x)\n",
    "std_sample = np.std(x, ddof=1)\n",
    "\n",
    "# a. 99% Confidence Interval using t-distribution\n",
    "t_critical = stats.t.ppf(1 - 0.005, df=n-1)\n",
    "margin_t = t_critical * (std_sample / np.sqrt(n))\n",
    "ci_t = (mean - margin_t, mean + margin_t)\n",
    "ci_t"
   ]
  },
  {
   "cell_type": "code",
   "execution_count": 5,
   "id": "ff84c0d0-c66f-41aa-80e3-6dad91898f9a",
   "metadata": {},
   "outputs": [
    {
     "data": {
      "text/plain": [
       "(1.1056514133957607, 1.3716819199375725)"
      ]
     },
     "execution_count": 5,
     "metadata": {},
     "output_type": "execute_result"
    }
   ],
   "source": [
    "# b. 99% Confidence Interval using known population std\n",
    "sigma = 0.2\n",
    "z_critical = stats.norm.ppf(1 - 0.005)\n",
    "margin_z = z_critical * (sigma / np.sqrt(n))\n",
    "ci_z = (mean - margin_z, mean + margin_z)\n",
    "ci_z"
   ]
  },
  {
   "cell_type": "code",
   "execution_count": null,
   "id": "18eda861-0b1f-4453-ac99-e6bd52d647dc",
   "metadata": {},
   "outputs": [],
   "source": [
    "####Thanks You####"
   ]
  },
  {
   "cell_type": "code",
   "execution_count": null,
   "id": "0a923178-2b8a-4180-9a53-e60b154f3260",
   "metadata": {},
   "outputs": [],
   "source": []
  }
 ],
 "metadata": {
  "kernelspec": {
   "display_name": "Python [conda env:base] *",
   "language": "python",
   "name": "conda-base-py"
  },
  "language_info": {
   "codemirror_mode": {
    "name": "ipython",
    "version": 3
   },
   "file_extension": ".py",
   "mimetype": "text/x-python",
   "name": "python",
   "nbconvert_exporter": "python",
   "pygments_lexer": "ipython3",
   "version": "3.12.7"
  }
 },
 "nbformat": 4,
 "nbformat_minor": 5
}
