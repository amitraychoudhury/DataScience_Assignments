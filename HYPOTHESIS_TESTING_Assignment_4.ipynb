{
 "cells": [
  {
   "cell_type": "code",
   "execution_count": 1,
   "id": "3bc28edd-30b9-4540-bbb0-d3e8b4da488b",
   "metadata": {},
   "outputs": [
    {
     "name": "stdout",
     "output_type": "stream",
     "text": [
      "Theoretical mean: 4000\n",
      "Population standard deviation: 125\n"
     ]
    }
   ],
   "source": [
    "# Data Provided:\n",
    "# 1. The theoretical weekly operating cost model: W = $1,000 + $5X\n",
    "# 2. Sample of 25 restaurants with a mean weekly cost of Rs. 3,050\n",
    "# 3. Number of units produced in a week (X) follows a normal distribution \n",
    "#... with a mean (μ) of 600 units and a standard deviation (σ) of 25 units\n",
    "import numpy as np\n",
    "from scipy import stats\n",
    "from scipy.stats import norm\n",
    "n = 25\n",
    "sample_mean = 3050\n",
    "theoretical_mean = 1000 + 5*600   # = 4000\n",
    "population_std = 5*25             # = 125\n",
    "alpha = 0.05\n",
    "print(f\"Theoretical mean: {theoretical_mean}\")\n",
    "print(f\"Population standard deviation: {population_std}\")"
   ]
  },
  {
   "cell_type": "code",
   "execution_count": 2,
   "id": "a141204d-14f1-4674-b3e8-6a7e664118c5",
   "metadata": {},
   "outputs": [
    {
     "name": "stdout",
     "output_type": "stream",
     "text": [
      "Standard Error: 25.0\n"
     ]
    }
   ],
   "source": [
    "# Population standard deviation use Z-test\n",
    "# Calculate standard error using POPULATION standard deviation\n",
    "standard_error = population_std / np.sqrt(n)\n",
    "print(f\"Standard Error: {standard_error}\")"
   ]
  },
  {
   "cell_type": "code",
   "execution_count": 3,
   "id": "c0768d99-76c2-4c7e-81e4-1cf3fcd2abdb",
   "metadata": {},
   "outputs": [
    {
     "name": "stdout",
     "output_type": "stream",
     "text": [
      "Standard Error: 25.0\n",
      "Z-statistic: -38.0\n"
     ]
    }
   ],
   "source": [
    "# Calculate Z-statistic \n",
    "# Formula: Z = (x̄ - μ) / (σ / √n)\n",
    "standard_error = population_std / np.sqrt(n)\n",
    "z_stat = (sample_mean - theoretical_mean) / standard_error\n",
    "print(f\"Standard Error: {standard_error}\")\n",
    "print(f\"Z-statistic: {z_stat}\")"
   ]
  },
  {
   "cell_type": "code",
   "execution_count": 4,
   "id": "f2bfa243-2cb0-421e-a4b0-571b03dc9ace",
   "metadata": {},
   "outputs": [
    {
     "name": "stdout",
     "output_type": "stream",
     "text": [
      "P-value: 0.0\n"
     ]
    }
   ],
   "source": [
    "# P-value using normal distribution\n",
    "p_value = 2 * norm.cdf(-abs(z_stat))\n",
    "print(f\"P-value: {p_value}\")"
   ]
  },
  {
   "cell_type": "code",
   "execution_count": 5,
   "id": "e08ebf5a-6cb2-49ab-9fbc-96f6deec0004",
   "metadata": {},
   "outputs": [
    {
     "name": "stdout",
     "output_type": "stream",
     "text": [
      "Critical Z-value: 1.6448536269514722\n"
     ]
    }
   ],
   "source": [
    "#Determine the Critical Value (one-tailed, α = 0.05)\n",
    "z_critical = norm.ppf(1 - alpha)\n",
    "print(f\"Critical Z-value: {z_critical}\")"
   ]
  },
  {
   "cell_type": "code",
   "execution_count": 6,
   "id": "197f5f1f-6542-4801-9710-fdc69ff1b56e",
   "metadata": {},
   "outputs": [
    {
     "name": "stdout",
     "output_type": "stream",
     "text": [
      "\n",
      "Decision:\n",
      "Fail to Reject the Null Hypothesis\n",
      "There is not enough evidence to support the claim of higher costs.\n"
     ]
    }
   ],
   "source": [
    "#Calculate z_critical\n",
    "#Make a Decision\n",
    "print(\"\\nDecision:\")\n",
    "if z_stat > z_critical:\n",
    "    print(\"Reject the Null Hypothesis\")\n",
    "    print(\"There is significant evidence that the weekly operating cost is higher than the theoretical model\")\n",
    "else:\n",
    "    print(\"Fail to Reject the Null Hypothesis\")\n",
    "    print(\"There is not enough evidence to support the claim of higher costs.\")"
   ]
  },
  {
   "cell_type": "code",
   "execution_count": 7,
   "id": "6cae6c05-89bf-428a-b044-79dbb1f6a8e2",
   "metadata": {},
   "outputs": [
    {
     "name": "stdout",
     "output_type": "stream",
     "text": [
      "BOMBAY HOSPITALITY LTD. COST ANALYSIS\n",
      "DECISION:\n",
      "Conclusion: Reject the null hypothesis.\n",
      "The sample mean is different from the theoretical mean.\n"
     ]
    }
   ],
   "source": [
    "# Decision \n",
    "print(\"BOMBAY HOSPITALITY LTD. COST ANALYSIS\")\n",
    "print(\"DECISION:\")\n",
    "if abs(z_stat) > z_critical:  \n",
    "    print(\"Conclusion: Reject the null hypothesis.\")\n",
    "    print(\"The sample mean is different from the theoretical mean.\")\n",
    "else:\n",
    "    print(\"Conclusion: Fail to reject the null hypothesis.\")\n",
    "    print(\"The sample mean is not different from the theoretical mean\")"
   ]
  },
  {
   "cell_type": "code",
   "execution_count": 8,
   "id": "50f7b336-0f1e-422d-bc91-d46ca83f3a8f",
   "metadata": {},
   "outputs": [
    {
     "name": "stdout",
     "output_type": "stream",
     "text": [
      "SUMMARY:\n",
      "Sample mean: Rs. 3050\n",
      "Theoretical mean: Rs. 4000\n",
      "Z-statistic: -38.0\n",
      "Critical Z-values: ±1.645\n",
      "P-value: 0.0\n",
      "Decision: Reject\n"
     ]
    }
   ],
   "source": [
    "# results\n",
    "print(\"SUMMARY:\")\n",
    "print(f\"Sample mean: Rs. {sample_mean}\")\n",
    "print(f\"Theoretical mean: Rs. {theoretical_mean}\")\n",
    "print(f\"Z-statistic: {z_stat}\")\n",
    "print(f\"Critical Z-values: ±{z_critical:.3f}\")\n",
    "print(f\"P-value: {p_value}\")\n",
    "print(f\"Decision: {'Reject' if abs(z_stat) > z_critical else 'Fail to reject '}\")"
   ]
  },
  {
   "cell_type": "code",
   "execution_count": 9,
   "id": "d93d2cf1-8c47-4b6c-86f3-a4d364cfe17f",
   "metadata": {},
   "outputs": [
    {
     "name": "stdout",
     "output_type": "stream",
     "text": [
      "\n",
      "Conclusion:\n",
      " The analysis does not provide enough evidence to support the claim.\n"
     ]
    }
   ],
   "source": [
    "#Conclusion\n",
    "print(\"\\nConclusion:\")\n",
    "if z_stat > z_critical:\n",
    "    print(\"The analysis provides strong evidence that the restaurant owners' claim is valid.\")\n",
    "else:\n",
    "    print(\" The analysis does not provide enough evidence to support the claim.\")"
   ]
  },
  {
   "cell_type": "code",
   "execution_count": null,
   "id": "1bfa5927-3cb0-49a5-a8ed-e3668653807c",
   "metadata": {},
   "outputs": [],
   "source": []
  },
  {
   "cell_type": "code",
   "execution_count": 10,
   "id": "52548d49-e5dd-4674-8d25-0dd3af8abc3d",
   "metadata": {},
   "outputs": [],
   "source": [
    "#### Thanks You #####"
   ]
  },
  {
   "cell_type": "code",
   "execution_count": null,
   "id": "9dea01e6-351f-44ef-b02d-7bccfbd2eb8b",
   "metadata": {},
   "outputs": [],
   "source": []
  },
  {
   "cell_type": "code",
   "execution_count": null,
   "id": "9bbed271-db35-4eb9-8bb0-ffd0e7ee0f62",
   "metadata": {},
   "outputs": [],
   "source": []
  }
 ],
 "metadata": {
  "kernelspec": {
   "display_name": "Python [conda env:base] *",
   "language": "python",
   "name": "conda-base-py"
  },
  "language_info": {
   "codemirror_mode": {
    "name": "ipython",
    "version": 3
   },
   "file_extension": ".py",
   "mimetype": "text/x-python",
   "name": "python",
   "nbconvert_exporter": "python",
   "pygments_lexer": "ipython3",
   "version": "3.12.7"
  }
 },
 "nbformat": 4,
 "nbformat_minor": 5
}
