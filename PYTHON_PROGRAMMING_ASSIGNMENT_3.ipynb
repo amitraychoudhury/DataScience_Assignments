{
 "cells": [
  {
   "cell_type": "code",
   "execution_count": 1,
   "id": "93e54fc8-d9de-445f-a71c-4c615ec2edf9",
   "metadata": {},
   "outputs": [],
   "source": [
    "                          ###Exercise 1: Prime Numbers\n",
    "#Write a Python program that checks whether a given number is prime or not. A prime number is a natural \n",
    "#number greater than 1 that has no positive divisors other than 1 and itself."
   ]
  },
  {
   "cell_type": "code",
   "execution_count": 2,
   "id": "40f2230f-a824-43ce-8c36-8bce72d2f400",
   "metadata": {},
   "outputs": [
    {
     "name": "stdin",
     "output_type": "stream",
     "text": [
      "enter a number hear : 7\n"
     ]
    },
    {
     "name": "stdout",
     "output_type": "stream",
     "text": [
      "7 is a prime number\n"
     ]
    }
   ],
   "source": [
    "x=int(input(\"enter a number hear :\"))\n",
    "count=0\n",
    "for i in range (1,x+1):\n",
    "    if x % i == 0 :\n",
    "        count = count + 1\n",
    "if count == 2:\n",
    "    print(x,\"is a prime number\")\n",
    "else :\n",
    "    print(x,\"is not a prime number\")"
   ]
  },
  {
   "cell_type": "code",
   "execution_count": 3,
   "id": "d2325e74-09b8-4957-9f88-35f236a3f9a0",
   "metadata": {},
   "outputs": [],
   "source": [
    "####Exercise 2: Product of Random Numbers\n",
    "#Develop a Python program that generates two random numbers and asks the user to enter the product of these numbers.\n",
    "#The program should then check if the user's answer is correct and display an appropriate message."
   ]
  },
  {
   "cell_type": "markdown",
   "id": "fe84a760-777d-4c61-988e-3cf606caf2e6",
   "metadata": {},
   "source": [
    "# import random \n",
    "x = random.randint(1, 10)\n",
    "y = random.randint(1, 10)\n",
    "print(\"What is the product of\", x, \"and\", y, \"?\")\n",
    "user_answer = int(input(\"Enter your answer: \"))\n",
    "correct_answer = x * y\n",
    "if user_answer == correct_answer:\n",
    "    print(\"Correct! Well done.\")\n",
    "else:\n",
    "    print(\"Incorrect. The correct answer is\", correct_answer)"
   ]
  },
  {
   "cell_type": "code",
   "execution_count": 5,
   "id": "40b5ea20-508c-463c-8b8a-0c9df7a42b50",
   "metadata": {},
   "outputs": [],
   "source": [
    "#####Exercise 3: Squares of Even/Odd Numbers\n",
    "#Create a Python script that prints the squares of all even or odd numbers within the range of 100 to 200.\n",
    "#Choose either even or odd numbers and document your choice in the code."
   ]
  },
  {
   "cell_type": "code",
   "execution_count": 6,
   "id": "11d04392-f23e-4d00-a6af-cf5ce1b70272",
   "metadata": {},
   "outputs": [
    {
     "name": "stdout",
     "output_type": "stream",
     "text": [
      "100 * 100 = 10000\n",
      "102 * 102 = 10404\n",
      "104 * 104 = 10816\n",
      "106 * 106 = 11236\n",
      "108 * 108 = 11664\n",
      "110 * 110 = 12100\n",
      "112 * 112 = 12544\n",
      "114 * 114 = 12996\n",
      "116 * 116 = 13456\n",
      "118 * 118 = 13924\n",
      "120 * 120 = 14400\n",
      "122 * 122 = 14884\n",
      "124 * 124 = 15376\n",
      "126 * 126 = 15876\n",
      "128 * 128 = 16384\n",
      "130 * 130 = 16900\n",
      "132 * 132 = 17424\n",
      "134 * 134 = 17956\n",
      "136 * 136 = 18496\n",
      "138 * 138 = 19044\n",
      "140 * 140 = 19600\n",
      "142 * 142 = 20164\n",
      "144 * 144 = 20736\n",
      "146 * 146 = 21316\n",
      "148 * 148 = 21904\n",
      "150 * 150 = 22500\n",
      "152 * 152 = 23104\n",
      "154 * 154 = 23716\n",
      "156 * 156 = 24336\n",
      "158 * 158 = 24964\n",
      "160 * 160 = 25600\n",
      "162 * 162 = 26244\n",
      "164 * 164 = 26896\n",
      "166 * 166 = 27556\n",
      "168 * 168 = 28224\n",
      "170 * 170 = 28900\n",
      "172 * 172 = 29584\n",
      "174 * 174 = 30276\n",
      "176 * 176 = 30976\n",
      "178 * 178 = 31684\n",
      "180 * 180 = 32400\n",
      "182 * 182 = 33124\n",
      "184 * 184 = 33856\n",
      "186 * 186 = 34596\n",
      "188 * 188 = 35344\n",
      "190 * 190 = 36100\n",
      "192 * 192 = 36864\n",
      "194 * 194 = 37636\n",
      "196 * 196 = 38416\n",
      "198 * 198 = 39204\n",
      "200 * 200 = 40000\n"
     ]
    }
   ],
   "source": [
    "#Even Numbers\n",
    "for i in range(100, 201):\n",
    "    if i % 2 == 0:\n",
    "        print(i, \"*\", i, \"=\",i*i)"
   ]
  },
  {
   "cell_type": "code",
   "execution_count": 7,
   "id": "9091dc7e-83ef-4df2-92bc-85a33b548acb",
   "metadata": {},
   "outputs": [
    {
     "name": "stdout",
     "output_type": "stream",
     "text": [
      "101 * 101 = 10201\n",
      "103 * 103 = 10609\n",
      "105 * 105 = 11025\n",
      "107 * 107 = 11449\n",
      "109 * 109 = 11881\n",
      "111 * 111 = 12321\n",
      "113 * 113 = 12769\n",
      "115 * 115 = 13225\n",
      "117 * 117 = 13689\n",
      "119 * 119 = 14161\n",
      "121 * 121 = 14641\n",
      "123 * 123 = 15129\n",
      "125 * 125 = 15625\n",
      "127 * 127 = 16129\n",
      "129 * 129 = 16641\n",
      "131 * 131 = 17161\n",
      "133 * 133 = 17689\n",
      "135 * 135 = 18225\n",
      "137 * 137 = 18769\n",
      "139 * 139 = 19321\n",
      "141 * 141 = 19881\n",
      "143 * 143 = 20449\n",
      "145 * 145 = 21025\n",
      "147 * 147 = 21609\n",
      "149 * 149 = 22201\n",
      "151 * 151 = 22801\n",
      "153 * 153 = 23409\n",
      "155 * 155 = 24025\n",
      "157 * 157 = 24649\n",
      "159 * 159 = 25281\n",
      "161 * 161 = 25921\n",
      "163 * 163 = 26569\n",
      "165 * 165 = 27225\n",
      "167 * 167 = 27889\n",
      "169 * 169 = 28561\n",
      "171 * 171 = 29241\n",
      "173 * 173 = 29929\n",
      "175 * 175 = 30625\n",
      "177 * 177 = 31329\n",
      "179 * 179 = 32041\n",
      "181 * 181 = 32761\n",
      "183 * 183 = 33489\n",
      "185 * 185 = 34225\n",
      "187 * 187 = 34969\n",
      "189 * 189 = 35721\n",
      "191 * 191 = 36481\n",
      "193 * 193 = 37249\n",
      "195 * 195 = 38025\n",
      "197 * 197 = 38809\n",
      "199 * 199 = 39601\n"
     ]
    }
   ],
   "source": [
    "#Odd Numbers\n",
    "for i in range(100, 201):\n",
    "    if i % 2 != 0:\n",
    "        print(i, \"*\", i, \"=\",i*i)\n",
    "        "
   ]
  },
  {
   "cell_type": "code",
   "execution_count": 8,
   "id": "f79c9a2d-4919-4cae-af59-f443605f0e55",
   "metadata": {},
   "outputs": [],
   "source": [
    "# {Exercise 4: Word counter\n",
    "#write a program to count the number of words in a given text.\n",
    "#example:\n",
    "#input_text = \"This is a sample text. This text will be used to demonstrate the word counter.\"\n",
    "#Expected output:\n",
    "#'This': 2 \n",
    "#'is': 1\n",
    "##'a': 1\n",
    "#'sample': 1\n",
    "#'text.': 1}"
   ]
  },
  {
   "cell_type": "code",
   "execution_count": 9,
   "id": "0e11a929-8604-4c9a-b5a9-1f989a4b9093",
   "metadata": {},
   "outputs": [
    {
     "name": "stdout",
     "output_type": "stream",
     "text": [
      "'This': 2\n",
      "'is': 1\n",
      "'a': 1\n",
      "'sample': 1\n",
      "'text.': 1\n",
      "'text': 1\n",
      "'will': 1\n",
      "'be': 1\n",
      "'used': 1\n",
      "'to': 1\n",
      "'demonstrate': 1\n",
      "'the': 1\n",
      "'word': 1\n",
      "'counter.': 1\n"
     ]
    }
   ],
   "source": [
    "input_text = \"This is a sample text. This text will be used to demonstrate the word counter.\"\n",
    "words = input_text.split()\n",
    "word_count = {}\n",
    "for word in words:\n",
    "    if word in word_count:\n",
    "        word_count[word] += 1\n",
    "    else:\n",
    "        word_count[word] = 1\n",
    "for word, count in word_count.items():\n",
    "    print(f\"'{word}': {count}\")"
   ]
  },
  {
   "cell_type": "code",
   "execution_count": 10,
   "id": "5207eaa2-2bc7-4a28-aa34-09e621c9f98c",
   "metadata": {},
   "outputs": [],
   "source": [
    "#Exercise 5: Check for Palindrome\n",
    "#Write a Python function called is_palindrome that takes a string as input and returns True if the string is a palindrome,\n",
    "#and False otherwise. A palindrome is a word, phrase, number, or other sequence of characters that reads the same forward and backward, \n",
    "#ignoring spaces, punctuation, and capitalization.\n",
    "#Example:\n",
    "#Input: \"racecar\"\n",
    "#Expected Output: True"
   ]
  },
  {
   "cell_type": "code",
   "execution_count": 11,
   "id": "db8ee3fe-9516-4fc0-801b-b0087c5de248",
   "metadata": {},
   "outputs": [
    {
     "name": "stdin",
     "output_type": "stream",
     "text": [
      "enter any=(word, phrase, number): 121\n"
     ]
    },
    {
     "name": "stdout",
     "output_type": "stream",
     "text": [
      "palindrome is true\n"
     ]
    }
   ],
   "source": [
    "x=input(\"enter any=(word, phrase, number):\")\n",
    "reverse = x[::-1]\n",
    "if (x == reverse ):\n",
    "    print(\"palindrome is true\")\n",
    "else:\n",
    "    print(\"palindrome is Flase\")\n",
    "   "
   ]
  },
  {
   "cell_type": "markdown",
   "id": "fdf9cafe-c61f-4469-a889-2ececa462780",
   "metadata": {},
   "source": [
    "####Thanks you####"
   ]
  },
  {
   "cell_type": "code",
   "execution_count": null,
   "id": "80995e3b-1c01-4234-9edf-d74b77c8764b",
   "metadata": {},
   "outputs": [],
   "source": []
  }
 ],
 "metadata": {
  "kernelspec": {
   "display_name": "Python [conda env:base] *",
   "language": "python",
   "name": "conda-base-py"
  },
  "language_info": {
   "codemirror_mode": {
    "name": "ipython",
    "version": 3
   },
   "file_extension": ".py",
   "mimetype": "text/x-python",
   "name": "python",
   "nbconvert_exporter": "python",
   "pygments_lexer": "ipython3",
   "version": "3.12.7"
  }
 },
 "nbformat": 4,
 "nbformat_minor": 5
}
