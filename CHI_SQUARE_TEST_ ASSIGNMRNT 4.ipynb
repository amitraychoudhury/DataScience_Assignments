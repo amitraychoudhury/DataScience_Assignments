{
 "cells": [
  {
   "cell_type": "code",
   "execution_count": 1,
   "id": "eb6708e3-c3e9-451c-aab9-4f51940b351e",
   "metadata": {},
   "outputs": [],
   "source": [
    "# Chi-Square Test\n",
    "# Association between Device Type and Customer Satisfaction\n",
    "####1. State the Hypotheses\n",
    "import numpy as np\n",
    "import pandas as pd\n",
    "from scipy.stats import chi2_contingency, chi2"
   ]
  },
  {
   "cell_type": "code",
   "execution_count": 2,
   "id": "ef73165d-af26-43a7-82e7-feef07e577ec",
   "metadata": {},
   "outputs": [
    {
     "name": "stdout",
     "output_type": "stream",
     "text": [
      "Observed Frequency Table:\n",
      "                  Smart Thermostat  Smart Light\n",
      "Very Satisfied                  50           70\n",
      "Satisfied                       80          100\n",
      "Neutral                         60           90\n",
      "Unsatisfied                     30           50\n",
      "Very Unsatisfied                20           50 \n",
      "\n"
     ]
    }
   ],
   "source": [
    "# Observed Frequencies table\n",
    "#2.Compute the Chi-Square Statistic\n",
    "data = np.array([\n",
    "    [50, 70],\n",
    "    [80, 100],\n",
    "    [60, 90],  \n",
    "    [30, 50],  \n",
    "    [20, 50]   \n",
    "])\n",
    "# Convert to DataFrame for better readability\n",
    "df = pd.DataFrame(data,\n",
    "                  index=[\"Very Satisfied\", \"Satisfied\", \"Neutral\", \"Unsatisfied\", \"Very Unsatisfied\"],\n",
    "                  columns=[\"Smart Thermostat\", \"Smart Light\"])\n",
    "print(\"Observed Frequency Table:\")\n",
    "print(df, \"\\n\")"
   ]
  },
  {
   "cell_type": "code",
   "execution_count": 3,
   "id": "4374d763-9d1b-487e-918b-0cfc0f5b01b9",
   "metadata": {},
   "outputs": [
    {
     "name": "stdout",
     "output_type": "stream",
     "text": [
      "Chi-Square Test Results\n",
      "Chi-Square Statistic : 5.638\n",
      "Degrees of Freedom   : 4\n",
      "P-Value              : 0.2278\n",
      "\n"
     ]
    }
   ],
   "source": [
    "# Step 3: Perform Chi-Square Test\n",
    "chi2_stat, p_val, dof, expected = chi2_contingency(data)\n",
    "print(\"Chi-Square Test Results\")\n",
    "print(f\"Chi-Square Statistic : {chi2_stat:.3f}\")\n",
    "print(f\"Degrees of Freedom   : {dof}\")\n",
    "print(f\"P-Value              : {p_val:.4f}\\n\")"
   ]
  },
  {
   "cell_type": "code",
   "execution_count": 4,
   "id": "7950efb6-afd9-4d34-a841-a0539ea5273c",
   "metadata": {},
   "outputs": [
    {
     "name": "stdout",
     "output_type": "stream",
     "text": [
      "Expected Frequency Table:\n",
      "                  Smart Thermostat  Smart Light\n",
      "Very Satisfied                48.0         72.0\n",
      "Satisfied                     72.0        108.0\n",
      "Neutral                       60.0         90.0\n",
      "Unsatisfied                   32.0         48.0\n",
      "Very Unsatisfied              28.0         42.0 \n",
      "\n"
     ]
    }
   ],
   "source": [
    "# Display Expected Frequencies\n",
    "expected_df = pd.DataFrame(expected,\n",
    "                           index=[\"Very Satisfied\", \"Satisfied\", \"Neutral\", \"Unsatisfied\", \"Very Unsatisfied\"],\n",
    "                           columns=[\"Smart Thermostat\", \"Smart Light\"])\n",
    "\n",
    "print(\"Expected Frequency Table:\")\n",
    "print(expected_df, \"\\n\")"
   ]
  },
  {
   "cell_type": "code",
   "execution_count": 5,
   "id": "700f5856-ec62-487d-ae7b-d810e1116e63",
   "metadata": {},
   "outputs": [
    {
     "name": "stdout",
     "output_type": "stream",
     "text": [
      "Critical Value at alpha=0.05, df=4 : 9.488\n",
      "\n"
     ]
    }
   ],
   "source": [
    "#3. Determine the Critical Value:\n",
    "alpha = 0.05\n",
    "critical_value = chi2.ppf(1 - alpha, dof)\n",
    "print(f\"Critical Value at alpha=0.05, df={dof} : {critical_value:.3f}\\n\")"
   ]
  },
  {
   "cell_type": "code",
   "execution_count": 6,
   "id": "80b7e500-33f6-4999-bf2c-c4406edd625e",
   "metadata": {},
   "outputs": [
    {
     "name": "stdout",
     "output_type": "stream",
     "text": [
      "Decision: Fail to Reject the Null Hypothesis \n",
      "Conclusion: There is NO significant association between Device Type and Customer Satisfaction.\n"
     ]
    }
   ],
   "source": [
    "# Decision Rule\n",
    "if chi2_stat > critical_value:\n",
    "    print(\"Decision: Reject the Null Hypothesis\")\n",
    "    print(\"Conclusion: There is a significant association between Device Type and Customer Satisfaction.\")\n",
    "else:\n",
    "    print(\"Decision: Fail to Reject the Null Hypothesis \")\n",
    "    print(\"Conclusion: There is NO significant association between Device Type and Customer Satisfaction.\")"
   ]
  },
  {
   "cell_type": "code",
   "execution_count": null,
   "id": "6a23f42b-5d13-478a-b041-71b2e00522a1",
   "metadata": {},
   "outputs": [],
   "source": []
  },
  {
   "cell_type": "code",
   "execution_count": null,
   "id": "555214f5-6130-4a38-97eb-4b9c5826e334",
   "metadata": {},
   "outputs": [],
   "source": []
  },
  {
   "cell_type": "code",
   "execution_count": null,
   "id": "a7fa3ac4-1305-46d9-831d-90c08fca3fa7",
   "metadata": {},
   "outputs": [],
   "source": []
  }
 ],
 "metadata": {
  "kernelspec": {
   "display_name": "Python [conda env:base] *",
   "language": "python",
   "name": "conda-base-py"
  },
  "language_info": {
   "codemirror_mode": {
    "name": "ipython",
    "version": 3
   },
   "file_extension": ".py",
   "mimetype": "text/x-python",
   "name": "python",
   "nbconvert_exporter": "python",
   "pygments_lexer": "ipython3",
   "version": "3.12.7"
  }
 },
 "nbformat": 4,
 "nbformat_minor": 5
}
